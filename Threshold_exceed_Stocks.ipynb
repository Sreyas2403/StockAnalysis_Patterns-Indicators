{
  "nbformat": 4,
  "nbformat_minor": 0,
  "metadata": {
    "colab": {
      "provenance": [],
      "authorship_tag": "ABX9TyNsmzvZJRzUI3J/yg8aiULp",
      "include_colab_link": true
    },
    "kernelspec": {
      "name": "python3",
      "display_name": "Python 3"
    },
    "language_info": {
      "name": "python"
    }
  },
  "cells": [
    {
      "cell_type": "markdown",
      "metadata": {
        "id": "view-in-github",
        "colab_type": "text"
      },
      "source": [
        "<a href=\"https://colab.research.google.com/github/Sreyas2403/StockAnalysis_Patterns-Indicators/blob/main/Threshold_exceed_Stocks.ipynb\" target=\"_parent\"><img src=\"https://colab.research.google.com/assets/colab-badge.svg\" alt=\"Open In Colab\"/></a>"
      ]
    },
    {
      "cell_type": "code",
      "execution_count": null,
      "metadata": {
        "colab": {
          "base_uri": "https://localhost:8080/"
        },
        "id": "nchrey1sWHyC",
        "outputId": "d2a106cf-4e2e-4032-af7c-5c3abd79bc8e"
      },
      "outputs": [
        {
          "output_type": "stream",
          "name": "stderr",
          "text": [
            "[*********************100%***********************]  1 of 1 completed\n",
            "[*********************100%***********************]  1 of 1 completed\n",
            "[*********************100%***********************]  1 of 1 completed\n",
            "[*********************100%***********************]  1 of 1 completed\n",
            "[*********************100%***********************]  1 of 1 completed\n",
            "[*********************100%***********************]  1 of 1 completed\n",
            "[*********************100%***********************]  1 of 1 completed\n",
            "[*********************100%***********************]  1 of 1 completed\n",
            "[*********************100%***********************]  1 of 1 completed\n",
            "[*********************100%***********************]  1 of 1 completed"
          ]
        },
        {
          "output_type": "stream",
          "name": "stdout",
          "text": [
            "Output data is saved to Stocks_exceeded_threshold.xlsx\n"
          ]
        },
        {
          "output_type": "stream",
          "name": "stderr",
          "text": [
            "\n"
          ]
        }
      ],
      "source": [
        "import yfinance as yf\n",
        "import pandas as pd\n",
        "\n",
        "#taking list of 10 stocks\n",
        "stocks = ['AAPL','GOOGL', 'MSFT', 'AMZN', 'TSLA', 'META', 'NFLX', 'NVDA', 'INTC', 'AMD']\n",
        "threshold = int(500)\n",
        "status = \"not exceeded\"\n",
        "exceeded_data = []\n",
        "\n",
        "#fetching the data using yfinance\n",
        "for stock in stocks:\n",
        "  stock_data = yf.download(stock, period = '1d', interval = \"1d\")\n",
        "  closing_price = stock_data['Close'].iloc[-1]\n",
        "  if closing_price > threshold:     #implementing threshold status\n",
        "    status = \"exceeded\"\n",
        "  else:\n",
        "    status = \"not exceeded\"\n",
        "  exceeded_data.append([stocks,closing_price,status])\n",
        "\n",
        "#storing ouput in a new excel file\n",
        "exceeded_data_df = pd.DataFrame(exceeded_data, columns = [\"Symbol\",\"Closing Price\", \"Status\" ])\n",
        "filename = \"Stocks_exceeded_threshold.xlsx\"\n",
        "exceeded_data_df.to_excel(filename)\n",
        "print(f\"Output data is saved to {filename}\")\n"
      ]
    },
    {
      "cell_type": "code",
      "source": [],
      "metadata": {
        "id": "PFADXsmBYLId"
      },
      "execution_count": null,
      "outputs": []
    }
  ]
}