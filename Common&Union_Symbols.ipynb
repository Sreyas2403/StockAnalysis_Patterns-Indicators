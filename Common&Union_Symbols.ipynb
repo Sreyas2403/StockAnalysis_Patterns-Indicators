{
  "nbformat": 4,
  "nbformat_minor": 0,
  "metadata": {
    "colab": {
      "provenance": [],
      "authorship_tag": "ABX9TyMH6g28wBjnJS9tMgTXnhdF",
      "include_colab_link": true
    },
    "kernelspec": {
      "name": "python3",
      "display_name": "Python 3"
    },
    "language_info": {
      "name": "python"
    }
  },
  "cells": [
    {
      "cell_type": "markdown",
      "metadata": {
        "id": "view-in-github",
        "colab_type": "text"
      },
      "source": [
        "<a href=\"https://colab.research.google.com/github/Sreyas2403/StockAnalysis_Patterns-Indicators/blob/main/Common%26Union_Symbols.ipynb\" target=\"_parent\"><img src=\"https://colab.research.google.com/assets/colab-badge.svg\" alt=\"Open In Colab\"/></a>"
      ]
    },
    {
      "cell_type": "code",
      "source": [
        "import os\n",
        "import pandas as pd\n",
        "from functools import reduce\n",
        "\n",
        "# Folder path containing the CSV files\n",
        "folder_path = '/content/data'\n",
        "\n",
        "def get_common_symbols(folder_path):\n",
        "    csv_files = [f for f in os.listdir(folder_path) if f.endswith('.csv')]\n",
        "\n",
        "    if not csv_files:\n",
        "        raise FileNotFoundError(\"No CSV files found in the specified folder.\")\n",
        "\n",
        "    # List to store DataFrames\n",
        "    dfs = []\n",
        "\n",
        "    # Read all CSV files into DataFrames\n",
        "    for file in csv_files:\n",
        "        df = pd.read_csv(os.path.join(folder_path, file), usecols=[\"Symbol\"])\n",
        "        dfs.append(df)\n",
        "\n",
        "    # Find common symbols (intersection)\n",
        "    common_symbols = reduce(lambda x, y: pd.merge(x, y, on='Symbol'), dfs)\n",
        "\n",
        "    # Find all symbols (union)\n",
        "    all_symbols = pd.concat(dfs).drop_duplicates().reset_index(drop=True)\n",
        "\n",
        "    return common_symbols, all_symbols\n",
        "\n",
        "# Folder path containing the CSV files\n",
        "folder_path = '/content/data'\n",
        "\n",
        "# Get common symbols and all symbols\n",
        "common_symbols, all_symbols = get_common_symbols(folder_path)\n",
        "\n",
        "# Print the common symbols\n",
        "print(\"Common Symbols:\")\n",
        "print(common_symbols)\n",
        "\n",
        "# Print the union of all symbols\n",
        "print(\"\\nAll Symbols:\")\n",
        "print(all_symbols)\n",
        "\n",
        "# save the results to CSV files\n",
        "common_symbols.to_csv('common_symbols.csv', index=False)\n",
        "all_symbols.to_csv('all_symbols.csv', index=False)\n"
      ],
      "metadata": {
        "colab": {
          "base_uri": "https://localhost:8080/"
        },
        "id": "FGmdZkXi7NVs",
        "outputId": "97044edf-5df3-40ea-c33d-7775811ec6cd"
      },
      "execution_count": null,
      "outputs": [
        {
          "output_type": "stream",
          "name": "stdout",
          "text": [
            "Common Symbols:\n",
            "Empty DataFrame\n",
            "Columns: [Symbol]\n",
            "Index: []\n",
            "\n",
            "All Symbols:\n",
            "         Symbol\n",
            "0    ADANIENSOL\n",
            "1    APOLLOHOSP\n",
            "2    ASIANPAINT\n",
            "3         DMART\n",
            "4    BAJAJ-AUTO\n",
            "..          ...\n",
            "522    INDIGRID\n",
            "523    IRBINVIT\n",
            "524   MINDSPACE\n",
            "525        NXST\n",
            "526     PGINVIT\n",
            "\n",
            "[527 rows x 1 columns]\n"
          ]
        }
      ]
    },
    {
      "cell_type": "code",
      "source": [],
      "metadata": {
        "id": "ebA1sqk9ahZk"
      },
      "execution_count": null,
      "outputs": []
    },
    {
      "cell_type": "code",
      "execution_count": null,
      "metadata": {
        "id": "_KVTj6IUCsko",
        "colab": {
          "base_uri": "https://localhost:8080/"
        },
        "outputId": "59864825-663e-41f6-a037-73bb564492b0"
      },
      "outputs": [
        {
          "output_type": "stream",
          "name": "stdout",
          "text": [
            "Common Symbols:\n",
            "set()\n",
            "\n",
            "Union of All Symbols:\n",
            "set()\n"
          ]
        }
      ],
      "source": [
        "import os\n",
        "import pandas as pd\n",
        "\n",
        "# Define the folder path containing the CSV files\n",
        "folder_path = '/content/Excel'  # Update this with your device folder path\n",
        "\n",
        "def get_csv_files(folder_path):\n",
        "    \"\"\"Returns a list of CSV files in the given folder path.\"\"\"\n",
        "    return [os.path.join(folder_path, file) for file in os.listdir(folder_path) if file.endswith('.csv')]\n",
        "\n",
        "def read_symbols_from_csv(file_path):\n",
        "    \"\"\"Reads the 'Symbol' column from a CSV file and returns a set of symbols.\"\"\"\n",
        "    df = pd.read_csv(file_path)\n",
        "    if 'Symbol' in df.columns:\n",
        "        return set(df['Symbol'].dropna().unique())\n",
        "        print(df['Symbol'])\n",
        "    else:\n",
        "        return set()\n",
        "\n",
        "def find_common_and_union_symbols(folder_path):\n",
        "    \"\"\"Finds common and union symbols from the 'Symbol' column in all CSV files in the folder.\"\"\"\n",
        "    csv_files = get_csv_files(folder_path)\n",
        "    all_symbols_list = [read_symbols_from_csv(file) for file in csv_files]\n",
        "\n",
        "    # Calculate union of all symbols\n",
        "    union_symbols = set().union(*all_symbols_list)\n",
        "\n",
        "    # Calculate common symbols among all files\n",
        "    if all_symbols_list:\n",
        "        common_symbols = set.intersection(*all_symbols_list)\n",
        "    else:\n",
        "        common_symbols = set()\n",
        "\n",
        "    return common_symbols, union_symbols\n",
        "\n",
        "\n",
        "# Get common and union symbols\n",
        "common_symbols, union_symbols = find_common_and_union_symbols(folder_path)\n",
        "\n",
        "# Print the results\n",
        "print(\"Common Symbols:\")\n",
        "print(common_symbols)\n",
        "print(\"\\nUnion of All Symbols:\")\n",
        "print(union_symbols)\n",
        "\n",
        "#  save the results to files\n",
        "pd.Series(list(common_symbols)).to_csv('common_symbols.csv', index=False, header=['Symbol'])\n",
        "pd.Series(list(union_symbols)).to_csv('union_symbols.csv', index=False, header=['Symbol'])\n"
      ]
    },
    {
      "cell_type": "code",
      "source": [
        "import pandas as pd\n",
        "import os\n",
        "\n",
        "folder_path = \"/content/data\"\n",
        "def find_common_and_unique_symbols(folder_path):\n",
        "\n",
        "  common_symbols = set()\n",
        "  all_symbols = set()\n",
        "\n",
        "  # Iterate through all CSV files in the folder\n",
        "  for filename in os.listdir(folder_path):\n",
        "    if filename.endswith(\".csv\"):\n",
        "      file_path = os.path.join(folder_path, filename)\n",
        "      try:\n",
        "        # Read CSV data into a DataFrame\n",
        "        df = pd.read_csv(file_path)\n",
        "\n",
        "        # Extract symbols and update sets\n",
        "        symbols = set(df[\"Symbol\"].tolist())\n",
        "        common_symbols = common_symbols.intersection(symbols) if common_symbols else symbols\n",
        "        all_symbols.update(symbols)\n",
        "      except FileNotFoundError:\n",
        "        print(f\"Error: File {filename} not found.\")\n",
        "      except pd.errors.ParserError:\n",
        "        print(f\"Error: Unable to parse CSV file {filename}.\")\n",
        "\n",
        "  return common_symbols, all_symbols\n",
        "\n",
        "common_symbols, all_symbols = find_common_and_unique_symbols(folder_path)\n",
        "\n",
        "print(\"Common Symbols:\", common_symbols)\n",
        "print(\"All Symbols:\", all_symbols)\n"
      ],
      "metadata": {
        "colab": {
          "base_uri": "https://localhost:8080/"
        },
        "id": "oScDRvsx4SRV",
        "outputId": "8b9a4776-ca02-4d9d-ab3a-e9335d5676fb"
      },
      "execution_count": null,
      "outputs": [
        {
          "output_type": "stream",
          "name": "stdout",
          "text": [
            "Common Symbols: set()\n",
            "All Symbols: {'SUNPHARMA', 'FORTIS', 'WELCORP', 'BSE', 'NATIONALUM', 'MEDANTA', 'CLEAN', 'RALLIS', 'CAPLIPOINT', 'COCHINSHIP', 'JIOFIN', 'VARROC', 'LEMONTREE', 'POLICYBZR', 'MAHSEAMLES', 'RAYMOND', 'AMBUJACEM', 'IPCALAB', 'SUMICHEM', 'SBILIFE', 'ENDURANCE', 'BIRLACORPN', 'CRAFTSMAN', 'TRIVENI', 'HSCL', 'APTUS', 'RENUKA', 'VEDL', 'PETRONET', 'ABFRL', 'ICICIPRULI', 'SHYAMMETL', 'TEJASNET', 'AFFLE', 'TVSMOTOR', 'AARTIIND', 'ALOKINDS', 'NH', 'MTARTECH', 'MRF', 'APOLLOHOSP', 'ORIENTHOT', 'IEX', 'SYRMA', 'POONAWALLA', 'SBFC', 'HEG', 'TATAMTRDVR', 'PATANJALI', 'TIINDIA', 'FSL', 'WESTLIFE', 'UNOMINDA', 'JUBLINGREA', 'NHPC', 'CIPLA', 'TIMKEN', 'NETWORK18', 'SUNTV', 'INFY', 'PGINVIT', 'MOTILALOFS', 'MAPMYINDIA', 'ISEC', 'UNIONBANK', 'DMART', 'IDBI', 'PAGEIND', 'EXIDEIND', 'SRF', 'TATATECH', 'AXISBANK', 'KPIL', 'GSFC', 'BSOFT', 'JBCHEPHARM', 'OLECTRA', 'ZOMATO', 'INDIGOPNTS', 'JUBLPHARMA', 'INDIANB', 'AMBER', 'UBL', 'SBICARD', 'LAURUSLABS', 'M&M', 'SAREGAMA', 'BLUESTARCO', 'PNCINFRA', 'INDIACEM', 'RCF', 'SANOFI', 'DABUR', 'ABBOTINDIA', 'GPIL', 'BAJAJFINSV', 'METROBRAND', 'EASEMYTRIP', 'MMTC', 'ZENSARTECH', 'REDINGTON', 'IBULHSGFIN', 'HUDCO', 'IRB', 'KARURVYSYA', 'GILLETTE', 'SONACOMS', 'AMARAJABAT', 'ROUTE', 'RRKABEL', 'HDFCLIFE', 'MAXHEALTH', 'JSWSTEEL', 'CUB', 'MANAPPURAM', 'KPRMILL', 'KEC', 'YESBANK', 'PCBL', 'MASTEK', 'M&MFIN', 'BAYERCROP', 'TRF', 'ADANIENT', 'BIRLAMONEY', 'COROMANDEL', 'FEDERALBNK', 'BALKRISIND', 'HAL', 'NAM-INDIA', 'EIHOTEL', 'ARE&M', 'FLUOROCHEM', 'HOMEFIRST', 'CELLO', 'TMB', 'AWL', 'GSPL', 'ELECON', 'GAIL', 'HAPPYFORGE', 'SAIL', 'JINDALSTEL', 'TECHM', 'MRPL', 'ICICIGI', 'TATACHEM', 'ALKYLAMINE', 'HDFC', 'GODFRYPHLP', 'SAPPHIRE', 'ANGELONE', 'HINDZINC', 'GNFC', 'HAPPSTMNDS', 'ASAHIINDIA', 'GRSE', 'RKFORGE', 'SCHAEFFLER', 'IRFC', 'CHOLAFIN', 'SUNTECK', 'LINDEINDIA', 'HBLPOWER', 'SUPREMEIND', 'ITC', 'TORNTPHARM', 'FINEORG', 'FIVESTAR', 'GLS', 'RECLTD', 'JUBLFOOD', '360ONE', 'TATAINVEST', 'QUESS', 'PRAJIND', 'BATAINDIA', 'POWERINDIA', 'JBMA', 'CAMPUS', 'TORNTPOWER', 'PEL', 'SUNDRMFAST', 'GMDCLTD', 'ABB', 'DOMS', 'IOC', 'POLYCAB', 'EICHERMOT', 'ADANIPORTS', 'INDIGRID', 'CROMPTON', 'BIOCON', 'SYNGENE', 'UPL', 'ACE', 'DRREDDY', 'TCS', 'CCL', 'IDEAFORGE', 'GODREJCP', 'PHOENIXLTD', 'VOLTAS', 'RTNINDIA', 'TATAELXSI', 'ELGIEQUIP', 'NUVAMA', 'CERA', 'BAJAJ-AUTO', 'JAIBALAJI', 'BALRAMCHIN', 'LT', 'POWERGRID', 'ABSLAMC', 'HDFCBANK', 'PRSMJOHNSN', 'PNB', 'DLF', 'CHENNPETRO', 'MSUMI', 'NESTLEIND', 'SIGNATURE', 'GPPL', 'GLENMARK', 'GLAND', 'ANANDRATHI', 'SAFARI', 'AETHER', 'EQUITASBNK', 'INTELLECT', 'MAHEPC', 'BEL', 'AIAENG', 'LICI', 'SOBHA', 'MCDOWELL-N', 'PERSISTENT', 'INDIGO', 'VIPIND', 'BHARTIARTL', 'ADANIGREEN', 'PARAS', 'IDEA', 'ASHOKLEY', 'RELIANCE', 'TV18BRDCST', 'USHAMART', 'JSL', 'BIRET', 'SHRIRAMFIN', 'ULTRACEMCO', 'MAHABANK', 'APARINDS', 'DALBHARAT', 'ICICIBANK', 'MAHLOG', 'PVRINOX', 'JKCEMENT', 'RAMCOCEM', 'RADICO', 'GRANULES', 'PRESTIGE', 'MPHASIS', 'PIDILITIND', 'ESCORTS', 'CAMS', 'KNRCON', 'ANURAS', 'NYKAA', 'LLOYDSME', 'GLAXO', 'BALAMINES', 'DATAPATTNS', 'MAZDOCK', 'KALYANKJIL', 'RITES', 'ASTRAMICRO', 'JKPAPER', 'JINDALSAW', 'TTML', 'SCHNEIDER', 'BAJAJHLDNG', 'BANDHANBNK', 'CANBK', 'IGL', 'ERIS', 'ASAL', 'CHAMBLFERT', 'VGUARD', 'IRCON', 'TANLA', 'ACI', 'SUZLON', 'J&KBANK', 'NATCOPHARM', 'NBCC', 'JKLAKSHMI', 'HFCL', 'UTIAMC', 'INDUSINDBK', 'CESC', 'AVANTIFEED', 'KEI', 'BLUEDART', 'OFSS', 'BDL', 'CIEINDIA', 'HINDALCO', 'LICHSGFIN', 'SUVENPHAR', 'ADANIENSOL', 'TATACOMM', 'GRAPHITE', 'MFSL', 'TATASTEEL', 'CHALET', 'DEEPAKFERT', 'BIKAJI', 'CENTURYPLY', 'SWARAJENG', 'LTF', 'ITI', 'INDIAMART', 'CASTROLIND', 'SPARC', 'RHIM', 'STARHEALTH', 'NUVOCO', 'TRITURBINE', 'ALLCARGO', 'IRBINVIT', 'MINDACORP', 'RBA', 'ASIANPAINT', 'OBEROIRLTY', 'IIFL', 'VTL', 'RVNL', 'INDUSTOWER', 'MGL', 'IRCTC', 'AUROPHARMA', 'PPLPHARMA', 'EIDPARRY', 'JSWENERGY', 'CRISIL', 'MUTHOOTFIN', 'GMMPFAUDLR', 'IOB', 'OIL', 'DEEPAKNTR', 'MCX', 'TRIDENT', 'SKFINDIA', 'KPITTECH', 'NELCO', 'LTTS', 'SJVN', 'NCC', 'TATAPOWER', 'TITAN', 'RAJESHEXPO', 'GRASIM', 'INOXWIND', 'KFINTECH', 'LATENTVIEW', 'PFC', 'GODREJIND', 'RAINBOW', 'FINCABLES', 'UJJIVANSFB', 'CUMMINSIND', 'NMDC', 'APOLLOTYRE', 'HONASA', 'VBL', 'PAYTM', '3MINDIA', 'GAEL', 'SWANENERGY', 'SONATSOFTW', 'KRBL', 'RATNAMANI', 'CSBBANK', 'WIPRO', 'GESHIP', 'FDC', 'HINDUNILVR', 'MEDPLUS', 'BANKINDIA', 'NAUKRI', 'DELHIVERY', 'HAVELLS', 'SOLARINDS', 'BPCL', 'NXST', 'PNBHOUSING', 'LTIM', 'ATGL', 'KSB', 'BLS', 'COLPAL', 'HDFCAMC', 'INDHOTEL', 'ADANIPOWER', 'ENGINERSIN', 'LODHA', 'KOTAKBANK', 'LUPIN', 'MOTHERSON', 'SUNDARMFIN', 'EMBASSY', 'CONCORDBIO', 'BRITANNIA', 'TATACONSUM', 'HCLTECH', 'ECLERX', 'APLAPOLLO', 'KAYNES', 'GODREJPROP', 'HINDPETRO', 'VAIBHAVGBL', 'HONAUT', 'BRIGADE', 'CENTURYTEX', 'PIIND', 'ACC', 'APLLTD', 'ALKEM', 'DIXON', 'JUSTDIAL', 'HINDCOPPER', 'BEML', 'LALPATHLAB', 'COALINDIA', 'BHEL', 'NAVINFLUOR', 'CANFINHOME', 'MARUTI', 'AAVAS', 'DCXINDIA', 'BHARATFORG', 'AEGISCHEM', 'TATAMOTORS', 'MARICO', 'EPL', 'ZFCVINDIA', 'JWL', 'KIMS', 'CHEMPLASTS', 'SBIN', 'BERGEPAINT', 'CEATLTD', 'ASTRAL', 'JMFINANCIL', 'CGCL', 'GICRE', 'NSLNISP', 'MAHLIFE', 'TITAGARH', 'AJANTPHARM', 'GUJGASLTD', 'IDFC', 'SIEMENS', 'ASTERDM', 'ASTRAZEN', 'STLTECH', 'GRINDWELL', 'NLCINDIA', 'WELSPUNLIV', 'JYOTHYLAB', 'RAILTEL', 'IDFCFIRSTB', 'ZYDUSLIFE', 'MHRIL', 'CDSL', 'CARBORUNIV', 'CHOLAHLDNG', 'CGPOWER', 'CONCOR', 'ZEEL', 'TVSSCS', 'NTPC', 'FINPIPE', 'THERMAX', 'HEROMOTOCO', 'BOSCHLTD', 'MINDSPACE', 'ONGC', 'ATUL', 'CYIENT', 'MIDHANI', 'MINDAIND', 'DCMSHRIRAM', 'DIVISLAB', 'CENTRALBK', 'NIACL', 'AUBANK', 'BAJFINANCE', 'LXCHEM', 'UCOBANK', 'PGHH', 'DEVYANI', 'MANKIND', 'BBTC', 'COFORGE', 'TRENT', 'RBLBANK', 'WHIRLPOOL', 'CREDITACC', 'KAJARIACER', 'SWSOLAR', 'SHREECEM', 'VIJAYA', 'JSWINFRA', 'ZENTEC', 'KANSAINER', 'METROPOLIS', 'BANKBARODA', 'BORORENEW', 'PRINCEPIPE', 'GMRINFRA', 'EMAMILTD', 'FACT', 'MANYAVAR', 'ABCAPITAL', 'POLYMED'}\n"
          ]
        }
      ]
    },
    {
      "cell_type": "code",
      "source": [],
      "metadata": {
        "id": "hY8AXWVk7Vzr"
      },
      "execution_count": null,
      "outputs": []
    }
  ]
}