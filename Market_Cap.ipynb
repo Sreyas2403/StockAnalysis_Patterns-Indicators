{
  "nbformat": 4,
  "nbformat_minor": 0,
  "metadata": {
    "colab": {
      "provenance": [],
      "authorship_tag": "ABX9TyMkB8sv6Rm0jMJR4dNtZJeH",
      "include_colab_link": true
    },
    "kernelspec": {
      "name": "python3",
      "display_name": "Python 3"
    },
    "language_info": {
      "name": "python"
    }
  },
  "cells": [
    {
      "cell_type": "markdown",
      "metadata": {
        "id": "view-in-github",
        "colab_type": "text"
      },
      "source": [
        "<a href=\"https://colab.research.google.com/github/Sreyas2403/StockAnalysis_Patterns-Indicators/blob/main/Market_Cap.ipynb\" target=\"_parent\"><img src=\"https://colab.research.google.com/assets/colab-badge.svg\" alt=\"Open In Colab\"/></a>"
      ]
    },
    {
      "cell_type": "code",
      "execution_count": null,
      "metadata": {
        "colab": {
          "base_uri": "https://localhost:8080/"
        },
        "id": "dzgk8sG-h-od",
        "outputId": "b9043619-7502-4c2f-e3ce-821c1935de38"
      },
      "outputs": [
        {
          "output_type": "stream",
          "name": "stdout",
          "text": [
            "Requirement already satisfied: yfinance in /usr/local/lib/python3.10/dist-packages (0.2.40)\n",
            "Collecting nsepython\n",
            "  Downloading nsepython-2.8-py3-none-any.whl (25 kB)\n",
            "Requirement already satisfied: pandas>=1.3.0 in /usr/local/lib/python3.10/dist-packages (from yfinance) (2.0.3)\n",
            "Requirement already satisfied: numpy>=1.16.5 in /usr/local/lib/python3.10/dist-packages (from yfinance) (1.25.2)\n",
            "Requirement already satisfied: requests>=2.31 in /usr/local/lib/python3.10/dist-packages (from yfinance) (2.31.0)\n",
            "Requirement already satisfied: multitasking>=0.0.7 in /usr/local/lib/python3.10/dist-packages (from yfinance) (0.0.11)\n",
            "Requirement already satisfied: lxml>=4.9.1 in /usr/local/lib/python3.10/dist-packages (from yfinance) (4.9.4)\n",
            "Requirement already satisfied: platformdirs>=2.0.0 in /usr/local/lib/python3.10/dist-packages (from yfinance) (4.2.2)\n",
            "Requirement already satisfied: pytz>=2022.5 in /usr/local/lib/python3.10/dist-packages (from yfinance) (2023.4)\n",
            "Requirement already satisfied: frozendict>=2.3.4 in /usr/local/lib/python3.10/dist-packages (from yfinance) (2.4.4)\n",
            "Requirement already satisfied: peewee>=3.16.2 in /usr/local/lib/python3.10/dist-packages (from yfinance) (3.17.5)\n",
            "Requirement already satisfied: beautifulsoup4>=4.11.1 in /usr/local/lib/python3.10/dist-packages (from yfinance) (4.12.3)\n",
            "Requirement already satisfied: html5lib>=1.1 in /usr/local/lib/python3.10/dist-packages (from yfinance) (1.1)\n",
            "Requirement already satisfied: scipy in /usr/local/lib/python3.10/dist-packages (from nsepython) (1.11.4)\n",
            "Requirement already satisfied: soupsieve>1.2 in /usr/local/lib/python3.10/dist-packages (from beautifulsoup4>=4.11.1->yfinance) (2.5)\n",
            "Requirement already satisfied: six>=1.9 in /usr/local/lib/python3.10/dist-packages (from html5lib>=1.1->yfinance) (1.16.0)\n",
            "Requirement already satisfied: webencodings in /usr/local/lib/python3.10/dist-packages (from html5lib>=1.1->yfinance) (0.5.1)\n",
            "Requirement already satisfied: python-dateutil>=2.8.2 in /usr/local/lib/python3.10/dist-packages (from pandas>=1.3.0->yfinance) (2.8.2)\n",
            "Requirement already satisfied: tzdata>=2022.1 in /usr/local/lib/python3.10/dist-packages (from pandas>=1.3.0->yfinance) (2024.1)\n",
            "Requirement already satisfied: charset-normalizer<4,>=2 in /usr/local/lib/python3.10/dist-packages (from requests>=2.31->yfinance) (3.3.2)\n",
            "Requirement already satisfied: idna<4,>=2.5 in /usr/local/lib/python3.10/dist-packages (from requests>=2.31->yfinance) (3.7)\n",
            "Requirement already satisfied: urllib3<3,>=1.21.1 in /usr/local/lib/python3.10/dist-packages (from requests>=2.31->yfinance) (2.0.7)\n",
            "Requirement already satisfied: certifi>=2017.4.17 in /usr/local/lib/python3.10/dist-packages (from requests>=2.31->yfinance) (2024.6.2)\n",
            "Installing collected packages: nsepython\n",
            "Successfully installed nsepython-2.8\n"
          ]
        }
      ],
      "source": [
        "!pip install yfinance nsepython"
      ]
    },
    {
      "cell_type": "code",
      "source": [
        "import pandas as pd\n",
        "from nsepython import nse_eq\n",
        "import yfinance as yf\n",
        "\n",
        "# Load the Excel file\n",
        "df = pd.read_excel('/content/newconsolidated_data.xlsx')\n",
        "\n",
        "# Function to map NSE symbols to Yahoo Finance symbols\n",
        "def nse_to_yfinance(symbol):\n",
        "    return symbol + '.NS'\n",
        "\n",
        "# Apply the function to the 'Symbol' column\n",
        "df['Yahoo_Symbol'] = df['Symbol'].apply(nse_to_yfinance)\n",
        "\n",
        "# Optionally, you can validate the symbols using yfinance\n",
        "def validate_symbol(yahoo_symbol):\n",
        "    try:\n",
        "        stock = yf.Ticker(yahoo_symbol)\n",
        "        return stock.info['symbol'] == yahoo_symbol\n",
        "    except:\n",
        "        return False\n",
        "\n",
        "df['Valid_Yahoo_Symbol'] = df['Yahoo_Symbol'].apply(validate_symbol)\n",
        "\n",
        "# Save the DataFrame to a new Excel file\n",
        "df.to_excel('yahoo_updated_file.xlsx', index=False)\n"
      ],
      "metadata": {
        "id": "vST5gAP7iJFr"
      },
      "execution_count": null,
      "outputs": []
    },
    {
      "cell_type": "code",
      "source": [
        "import pandas as pd\n",
        "from nsepython import nse_eq\n",
        "import yfinance as yf\n",
        "\n",
        "# Load the Excel file\n",
        "file_path = '/content/newconsolidated_data.xlsx'  # Update this to your  file path\n",
        "df = pd.read_excel(file_path)\n",
        "\n",
        "# Ensure the 'Symbol' column is of string type\n",
        "df['Symbol'] = df['Symbol'].astype(str)\n",
        "\n",
        "# Function to convert NSE symbols to Yahoo Finance symbols\n",
        "def convert_symbol_to_yf(symbol):\n",
        "    return symbol + '.NS'\n",
        "\n",
        "# Convert symbols\n",
        "df['YF Symbol'] = df['Symbol'].apply(convert_symbol_to_yf)\n",
        "\n",
        "# Function to get market cap from Yahoo Finance\n",
        "def get_market_cap(symbol):\n",
        "    try:\n",
        "        stock = yf.Ticker(symbol)\n",
        "        market_cap = stock.info['marketCap']\n",
        "        return market_cap\n",
        "    except KeyError:\n",
        "        print(f\"KeyError: Market cap not found for {symbol}\")\n",
        "        return None\n",
        "    except Exception as e:\n",
        "        print(f\"Error fetching market cap for {symbol}: {e}\")\n",
        "        return None\n",
        "\n",
        "# Get market caps for all converted symbols\n",
        "df['Market Cap'] = df['YF Symbol'].apply(get_market_cap)\n",
        "\n",
        "# Save the results back to an Excel file\n",
        "output_file_path = 'marketcap_output_file.xlsx'  # Update this to your desired output file path\n",
        "df.to_excel(output_file_path, index=False)\n",
        "\n",
        "print(\"Market capitalization calculation completed. Results saved to\", output_file_path)\n"
      ],
      "metadata": {
        "colab": {
          "base_uri": "https://localhost:8080/"
        },
        "id": "MJHDAWEgm5qx",
        "outputId": "36fd9875-603c-44dd-968f-492fa5744d2b"
      },
      "execution_count": null,
      "outputs": [
        {
          "output_type": "stream",
          "name": "stdout",
          "text": [
            "Market capitalization calculation completed. Results saved to marketcap_output_file.xlsx\n"
          ]
        }
      ]
    },
    {
      "cell_type": "code",
      "source": [
        "import pandas as pd\n",
        "from nsepython import nse_eq\n",
        "import yfinance as yf\n",
        "\n",
        "# Load the Excel file\n",
        "file_path = '/content/1967symbols_data.xlsx'  # Update this to your  file path\n",
        "df = pd.read_excel(file_path)\n",
        "\n",
        "# Ensure the 'Symbol' column is of string type\n",
        "df['Symbol'] = df['Symbol'].astype(str)\n",
        "\n",
        "# Function to convert NSE symbols to Yahoo Finance symbols\n",
        "def convert_symbol_to_yf(symbol):\n",
        "    return symbol + '.NS'\n",
        "\n",
        "# Convert symbols\n",
        "df['YF Symbol'] = df['Symbol'].apply(convert_symbol_to_yf)\n",
        "\n",
        "# Function to get market cap from Yahoo Finance\n",
        "def get_market_cap(symbol):\n",
        "    try:\n",
        "        stock = yf.Ticker(symbol)\n",
        "        market_cap = stock.info['marketCap']\n",
        "        return market_cap\n",
        "    except KeyError:\n",
        "        print(f\"KeyError: Market cap not found for {symbol}\")\n",
        "        return None\n",
        "    except Exception as e:\n",
        "        print(f\"Error fetching market cap for {symbol}: {e}\")\n",
        "        return None\n",
        "\n",
        "# Get market caps for all converted symbols\n",
        "df['Market Cap'] = df['YF Symbol'].apply(get_market_cap)\n",
        "\n",
        "# Save the results back to an Excel file\n",
        "output_file_path = 'marketcap_output_file.xlsx'  # Update this to your desired output file path\n",
        "df.to_excel(output_file_path, index=False)\n",
        "\n",
        "print(\"Market capitalization calculation completed. Results saved to\", output_file_path)\n"
      ],
      "metadata": {
        "colab": {
          "base_uri": "https://localhost:8080/"
        },
        "id": "rchg6EyNTyo3",
        "outputId": "fee34a08-1ccd-4820-e02e-86fe6b6bdc44"
      },
      "execution_count": null,
      "outputs": [
        {
          "output_type": "stream",
          "name": "stdout",
          "text": [
            "KeyError: Market cap not found for 3PLAND.NS\n",
            "KeyError: Market cap not found for ACL.NS\n",
            "KeyError: Market cap not found for ARTEMISMED.NS\n",
            "KeyError: Market cap not found for DIGJAMLMTD.NS\n",
            "KeyError: Market cap not found for GUJRAFFIA.NS\n",
            "KeyError: Market cap not found for KALYANI.NS\n",
            "KeyError: Market cap not found for KEEPLN-RE.NS\n",
            "KeyError: Market cap not found for KSHITIJPOL.NS\n",
            "KeyError: Market cap not found for MGEL-RE.NS\n",
            "KeyError: Market cap not found for SOLARA-RE.NS\n",
            "KeyError: Market cap not found for VIJIFI-RE.NS\n",
            "Market capitalization calculation completed. Results saved to marketcap_output_file.xlsx\n"
          ]
        }
      ]
    }
  ]
}