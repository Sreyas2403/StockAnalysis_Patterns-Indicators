{
  "nbformat": 4,
  "nbformat_minor": 0,
  "metadata": {
    "colab": {
      "provenance": [],
      "authorship_tag": "ABX9TyMwYQHl3Ddh+TIIeC8T867y",
      "include_colab_link": true
    },
    "kernelspec": {
      "name": "python3",
      "display_name": "Python 3"
    },
    "language_info": {
      "name": "python"
    }
  },
  "cells": [
    {
      "cell_type": "markdown",
      "metadata": {
        "id": "view-in-github",
        "colab_type": "text"
      },
      "source": [
        "<a href=\"https://colab.research.google.com/github/Sreyas2403/StockAnalysis_Patterns-Indicators/blob/main/USA_Indexes_Analysis.ipynb\" target=\"_parent\"><img src=\"https://colab.research.google.com/assets/colab-badge.svg\" alt=\"Open In Colab\"/></a>"
      ]
    },
    {
      "cell_type": "code",
      "execution_count": null,
      "metadata": {
        "colab": {
          "base_uri": "https://localhost:8080/"
        },
        "id": "eJq21RbodsrL",
        "outputId": "b99208c3-84a8-4a4b-ccda-7fefb9299a9e"
      },
      "outputs": [
        {
          "output_type": "stream",
          "name": "stdout",
          "text": [
            "Collecting nsepython\n",
            "  Downloading nsepython-2.93-py3-none-any.whl.metadata (7.4 kB)\n",
            "Requirement already satisfied: yfinance in /usr/local/lib/python3.10/dist-packages (0.2.41)\n",
            "Requirement already satisfied: requests in /usr/local/lib/python3.10/dist-packages (from nsepython) (2.32.3)\n",
            "Requirement already satisfied: pandas in /usr/local/lib/python3.10/dist-packages (from nsepython) (2.1.4)\n",
            "Requirement already satisfied: scipy in /usr/local/lib/python3.10/dist-packages (from nsepython) (1.13.1)\n",
            "Requirement already satisfied: numpy>=1.16.5 in /usr/local/lib/python3.10/dist-packages (from yfinance) (1.26.4)\n",
            "Requirement already satisfied: multitasking>=0.0.7 in /usr/local/lib/python3.10/dist-packages (from yfinance) (0.0.11)\n",
            "Requirement already satisfied: lxml>=4.9.1 in /usr/local/lib/python3.10/dist-packages (from yfinance) (4.9.4)\n",
            "Requirement already satisfied: platformdirs>=2.0.0 in /usr/local/lib/python3.10/dist-packages (from yfinance) (4.2.2)\n",
            "Requirement already satisfied: pytz>=2022.5 in /usr/local/lib/python3.10/dist-packages (from yfinance) (2024.1)\n",
            "Requirement already satisfied: frozendict>=2.3.4 in /usr/local/lib/python3.10/dist-packages (from yfinance) (2.4.4)\n",
            "Requirement already satisfied: peewee>=3.16.2 in /usr/local/lib/python3.10/dist-packages (from yfinance) (3.17.6)\n",
            "Requirement already satisfied: beautifulsoup4>=4.11.1 in /usr/local/lib/python3.10/dist-packages (from yfinance) (4.12.3)\n",
            "Requirement already satisfied: html5lib>=1.1 in /usr/local/lib/python3.10/dist-packages (from yfinance) (1.1)\n",
            "Requirement already satisfied: soupsieve>1.2 in /usr/local/lib/python3.10/dist-packages (from beautifulsoup4>=4.11.1->yfinance) (2.5)\n",
            "Requirement already satisfied: six>=1.9 in /usr/local/lib/python3.10/dist-packages (from html5lib>=1.1->yfinance) (1.16.0)\n",
            "Requirement already satisfied: webencodings in /usr/local/lib/python3.10/dist-packages (from html5lib>=1.1->yfinance) (0.5.1)\n",
            "Requirement already satisfied: python-dateutil>=2.8.2 in /usr/local/lib/python3.10/dist-packages (from pandas->nsepython) (2.8.2)\n",
            "Requirement already satisfied: tzdata>=2022.1 in /usr/local/lib/python3.10/dist-packages (from pandas->nsepython) (2024.1)\n",
            "Requirement already satisfied: charset-normalizer<4,>=2 in /usr/local/lib/python3.10/dist-packages (from requests->nsepython) (3.3.2)\n",
            "Requirement already satisfied: idna<4,>=2.5 in /usr/local/lib/python3.10/dist-packages (from requests->nsepython) (3.7)\n",
            "Requirement already satisfied: urllib3<3,>=1.21.1 in /usr/local/lib/python3.10/dist-packages (from requests->nsepython) (2.0.7)\n",
            "Requirement already satisfied: certifi>=2017.4.17 in /usr/local/lib/python3.10/dist-packages (from requests->nsepython) (2024.7.4)\n",
            "Downloading nsepython-2.93-py3-none-any.whl (25 kB)\n",
            "Installing collected packages: nsepython\n",
            "Successfully installed nsepython-2.93\n"
          ]
        }
      ],
      "source": [
        "!pip install nsepython yfinance"
      ]
    },
    {
      "cell_type": "code",
      "source": [
        "!pip install pytickersymbols"
      ],
      "metadata": {
        "colab": {
          "base_uri": "https://localhost:8080/"
        },
        "id": "jlU-gpdwXUl3",
        "outputId": "73c9bce1-1071-473d-da17-41cfa93a51fb"
      },
      "execution_count": null,
      "outputs": [
        {
          "output_type": "stream",
          "name": "stdout",
          "text": [
            "Collecting pytickersymbols\n",
            "  Downloading pytickersymbols-1.13.0-py3-none-any.whl.metadata (3.7 kB)\n",
            "Collecting wheel==0.38.4 (from pytickersymbols)\n",
            "  Downloading wheel-0.38.4-py3-none-any.whl.metadata (2.1 kB)\n",
            "Collecting PyYAML==6.0 (from pytickersymbols)\n",
            "  Downloading PyYAML-6.0-cp310-cp310-manylinux_2_5_x86_64.manylinux1_x86_64.manylinux_2_12_x86_64.manylinux2010_x86_64.whl.metadata (2.0 kB)\n",
            "Requirement already satisfied: packaging in /usr/local/lib/python3.10/dist-packages (from pytickersymbols) (24.1)\n",
            "Downloading pytickersymbols-1.13.0-py3-none-any.whl (79 kB)\n",
            "\u001b[2K   \u001b[90m━━━━━━━━━━━━━━━━━━━━━━━━━━━━━━━━━━━━━━━━\u001b[0m \u001b[32m79.5/79.5 kB\u001b[0m \u001b[31m1.2 MB/s\u001b[0m eta \u001b[36m0:00:00\u001b[0m\n",
            "\u001b[?25hDownloading PyYAML-6.0-cp310-cp310-manylinux_2_5_x86_64.manylinux1_x86_64.manylinux_2_12_x86_64.manylinux2010_x86_64.whl (682 kB)\n",
            "\u001b[2K   \u001b[90m━━━━━━━━━━━━━━━━━━━━━━━━━━━━━━━━━━━━━━━━\u001b[0m \u001b[32m682.2/682.2 kB\u001b[0m \u001b[31m5.7 MB/s\u001b[0m eta \u001b[36m0:00:00\u001b[0m\n",
            "\u001b[?25hDownloading wheel-0.38.4-py3-none-any.whl (36 kB)\n",
            "Installing collected packages: wheel, PyYAML, pytickersymbols\n",
            "  Attempting uninstall: wheel\n",
            "    Found existing installation: wheel 0.44.0\n",
            "    Uninstalling wheel-0.44.0:\n",
            "      Successfully uninstalled wheel-0.44.0\n",
            "  Attempting uninstall: PyYAML\n",
            "    Found existing installation: PyYAML 6.0.2\n",
            "    Uninstalling PyYAML-6.0.2:\n",
            "      Successfully uninstalled PyYAML-6.0.2\n",
            "Successfully installed PyYAML-6.0 pytickersymbols-1.13.0 wheel-0.38.4\n"
          ]
        }
      ]
    },
    {
      "cell_type": "code",
      "source": [
        "import yfinance as yf\n",
        "import pandas as pd\n",
        "\n",
        "# Define the NYSE index ticker (using SPY as a proxy for NYSE)\n",
        "nyse_ticker = \"^NYA\"\n",
        "\n",
        "# Set the time period for data retrieval (last 6 months)\n",
        "end_date = pd.to_datetime('today').strftime('%Y-%m-%d')\n",
        "start_date = (pd.to_datetime('today') - pd.DateOffset(months=6)).strftime('%Y-%m-%d')\n",
        "\n",
        "# Download historical data for NYSE\n",
        "nyse_data = yf.download(nyse_ticker, start_date, end_date)\n",
        "\n",
        "# Prepare the DataFrame with the required columns\n",
        "output_df = pd.DataFrame({\n",
        "    'Date': nyse_data.index,\n",
        "    'Closing Price': nyse_data['Close'],\n",
        "    'Change in Price': nyse_data['Close'].diff(),\n",
        "    'Volume': nyse_data['Volume'],\n",
        "    'Change in Volume': nyse_data['Volume'].diff(),\n",
        "    'High - Low': nyse_data['High'] - nyse_data['Low']\n",
        "})\n",
        "\n",
        "# Set the date as the index for the DataFrame\n",
        "output_df.set_index('Date', inplace=True)\n",
        "\n",
        "# Save the DataFrame to an Excel file\n",
        "output_file = 'NYSE_Last6Months_Data.xlsx'\n",
        "output_df.to_excel(output_file)\n",
        "\n",
        "print(\"Data has been saved to\", output_file)\n"
      ],
      "metadata": {
        "id": "2aJqQHA5eevX"
      },
      "execution_count": null,
      "outputs": []
    },
    {
      "cell_type": "code",
      "source": [
        "import yfinance as yf\n",
        "import pandas as pd\n",
        "\n",
        "# Define the NASDAQ COMPOSITE index ticker (using SPY as a proxy for IXIC)\n",
        "nasdaq_ticker = \"^IXIC\"\n",
        "\n",
        "# Set the time period for data retrieval (last 6 months)\n",
        "end_date = pd.to_datetime('today').strftime('%Y-%m-%d')\n",
        "start_date = (pd.to_datetime('today') - pd.DateOffset(months=6)).strftime('%Y-%m-%d')\n",
        "\n",
        "# Download historical data for NASDAQ\n",
        "ndaq_data = yf.download(nasdaq_ticker, start_date, end_date)\n",
        "\n",
        "# Prepare the DataFrame with the required columns\n",
        "output_df = pd.DataFrame({\n",
        "    'Date': ndaq_data.index,\n",
        "    'Closing Price': ndaq_data['Close'],\n",
        "    'Change in Price': ndaq_data['Close'].diff(),\n",
        "    'Volume': ndaq_data['Volume'],\n",
        "    'Change in Volume': ndaq_data['Volume'].diff(),\n",
        "    'High - Low': ndaq_data['High'] - ndaq_data['Low']\n",
        "})\n",
        "\n",
        "# Set the date as the index for the DataFrame\n",
        "output_df.set_index('Date', inplace=True)\n",
        "\n",
        "# Save the DataFrame to an Excel file\n",
        "output_file = 'NASDAQ_Last6Months_Data.xlsx'\n",
        "output_df.to_excel(output_file)\n",
        "\n",
        "print(\"Data has been saved to\", output_file)\n"
      ],
      "metadata": {
        "colab": {
          "base_uri": "https://localhost:8080/"
        },
        "id": "pkEac5CuV_VU",
        "outputId": "045ac361-f136-4ebe-a122-de363e4adbd3"
      },
      "execution_count": null,
      "outputs": [
        {
          "output_type": "stream",
          "name": "stderr",
          "text": [
            "\r[*********************100%%**********************]  1 of 1 completed"
          ]
        },
        {
          "output_type": "stream",
          "name": "stdout",
          "text": [
            "Data has been saved to NASDAQ_Last6Months_Data.xlsx\n"
          ]
        },
        {
          "output_type": "stream",
          "name": "stderr",
          "text": [
            "\n"
          ]
        }
      ]
    },
    {
      "cell_type": "code",
      "source": [
        "import yfinance as yf\n",
        "import pandas as pd\n",
        "\n",
        "# Define the NASDAQ 100 index ticker (using SPY as a proxy for IXIC)\n",
        "nasdaq_ticker = \"^NDX\"\n",
        "\n",
        "# Set the time period for data retrieval (last 6 months)\n",
        "end_date = pd.to_datetime('today').strftime('%Y-%m-%d')\n",
        "start_date = (pd.to_datetime('today') - pd.DateOffset(months=6)).strftime('%Y-%m-%d')\n",
        "\n",
        "# Download historical data for NASDAQ\n",
        "ndaq_data = yf.download(nasdaq_ticker, start_date, end_date)\n",
        "\n",
        "# Prepare the DataFrame with the required columns\n",
        "output_df = pd.DataFrame({\n",
        "    'Date': ndaq_data.index,\n",
        "    'Closing Price': ndaq_data['Close'],\n",
        "    'Change in Price': ndaq_data['Close'].diff(),\n",
        "    'Volume': ndaq_data['Volume'],\n",
        "    'Change in Volume': ndaq_data['Volume'].diff(),\n",
        "    'High - Low': ndaq_data['High'] - ndaq_data['Low']\n",
        "})\n",
        "\n",
        "# Set the date as the index for the DataFrame\n",
        "output_df.set_index('Date', inplace=True)\n",
        "\n",
        "# Save the DataFrame to an Excel file\n",
        "output_file = 'NASDAQ100_Last6Months_Data.xlsx'\n",
        "output_df.to_excel(output_file)\n",
        "\n",
        "print(\"Data has been saved to\", output_file)\n"
      ],
      "metadata": {
        "colab": {
          "base_uri": "https://localhost:8080/"
        },
        "id": "tZgpCGH1qrst",
        "outputId": "74ff499f-c3f1-42f4-a8f5-2b97fd473b18"
      },
      "execution_count": null,
      "outputs": [
        {
          "output_type": "stream",
          "name": "stderr",
          "text": [
            "\r[*********************100%%**********************]  1 of 1 completed"
          ]
        },
        {
          "output_type": "stream",
          "name": "stdout",
          "text": [
            "Data has been saved to NASDAQ100_Last6Months_Data.xlsx\n"
          ]
        },
        {
          "output_type": "stream",
          "name": "stderr",
          "text": [
            "\n"
          ]
        }
      ]
    },
    {
      "cell_type": "code",
      "source": [
        "import yfinance as yf\n",
        "import pandas as pd\n",
        "\n",
        "# Define the NASDAQ FINANCIAL 100 index ticker (using SPY as a proxy for IXIC)\n",
        "nasdaq_ticker = \"^IXF\"\n",
        "\n",
        "# Set the time period for data retrieval (last 6 months)\n",
        "end_date = pd.to_datetime('today').strftime('%Y-%m-%d')\n",
        "start_date = (pd.to_datetime('today') - pd.DateOffset(months=6)).strftime('%Y-%m-%d')\n",
        "\n",
        "# Download historical data for NASDAQ\n",
        "ndaq_data = yf.download(nasdaq_ticker, start_date, end_date)\n",
        "\n",
        "# Prepare the DataFrame with the required columns\n",
        "output_df = pd.DataFrame({\n",
        "    'Date': ndaq_data.index,\n",
        "    'Closing Price': ndaq_data['Close'],\n",
        "    'Change in Price': ndaq_data['Close'].diff(),\n",
        "    'Volume': ndaq_data['Volume'],\n",
        "    'Change in Volume': ndaq_data['Volume'].diff(),\n",
        "    'High - Low': ndaq_data['High'] - ndaq_data['Low']\n",
        "})\n",
        "\n",
        "# Set the date as the index for the DataFrame\n",
        "output_df.set_index('Date', inplace=True)\n",
        "\n",
        "# Save the DataFrame to an Excel file\n",
        "output_file = 'NASDAQ_Financial_Last6Months_Data.xlsx'\n",
        "output_df.to_excel(output_file)\n",
        "\n",
        "print(\"Data has been saved to\", output_file)\n"
      ],
      "metadata": {
        "colab": {
          "base_uri": "https://localhost:8080/"
        },
        "id": "p6hkm_p5q6AR",
        "outputId": "3feb73f6-3160-4d39-b602-251c8b847f09"
      },
      "execution_count": null,
      "outputs": [
        {
          "output_type": "stream",
          "name": "stderr",
          "text": [
            "\r[*********************100%%**********************]  1 of 1 completed"
          ]
        },
        {
          "output_type": "stream",
          "name": "stdout",
          "text": [
            "Data has been saved to NASDAQ_Financial_Last6Months_Data.xlsx\n"
          ]
        },
        {
          "output_type": "stream",
          "name": "stderr",
          "text": [
            "\n"
          ]
        }
      ]
    },
    {
      "cell_type": "code",
      "source": [
        "import yfinance as yf\n",
        "import pandas as pd\n",
        "\n",
        "# Define the DOW JONES index ticker (using SPY as a proxy for DJI)\n",
        "dji_ticker = \"^DJI\"\n",
        "\n",
        "# Set the time period for data retrieval (last 6 months)\n",
        "end_date = pd.to_datetime('today').strftime('%Y-%m-%d')\n",
        "start_date = (pd.to_datetime('today') - pd.DateOffset(months=6)).strftime('%Y-%m-%d')\n",
        "\n",
        "# Download historical data for DOW JONES\n",
        "dji_data = yf.download(dji_ticker, start_date, end_date)\n",
        "\n",
        "# Prepare the DataFrame with the required columns\n",
        "output_df = pd.DataFrame({\n",
        "    'Date': dji_data.index,\n",
        "    'Closing Price': dji_data['Close'],\n",
        "    'Change in Price': dji_data['Close'].diff(),\n",
        "    'Volume': dji_data['Volume'],\n",
        "    'Change in Volume': dji_data['Volume'].diff(),\n",
        "    'High - Low': dji_data['High'] - dji_data['Low']\n",
        "})\n",
        "\n",
        "# Set the date as the index for the DataFrame\n",
        "output_df.set_index('Date', inplace=True)\n",
        "\n",
        "# Save the DataFrame to an Excel file\n",
        "output_file = 'D0WJONES_Last6Months_Data.xlsx'\n",
        "output_df.to_excel(output_file)\n",
        "\n",
        "print(\"Data has been saved to\", output_file)\n"
      ],
      "metadata": {
        "colab": {
          "base_uri": "https://localhost:8080/"
        },
        "id": "_wrkdmZHYjWG",
        "outputId": "5a91a23f-23ca-4555-fa85-367d4e989ca6"
      },
      "execution_count": null,
      "outputs": [
        {
          "output_type": "stream",
          "name": "stderr",
          "text": [
            "\r[*********************100%%**********************]  1 of 1 completed"
          ]
        },
        {
          "output_type": "stream",
          "name": "stdout",
          "text": [
            "Data has been saved to D0WJONES_Last6Months_Data.xlsx\n"
          ]
        },
        {
          "output_type": "stream",
          "name": "stderr",
          "text": [
            "\n"
          ]
        }
      ]
    },
    {
      "cell_type": "code",
      "source": [
        "from pytickersymbols import PyTickerSymbols\n",
        "\n",
        "stock_data = PyTickerSymbols()\n",
        "nasdaq_tickers = stock_data.get_stocks_by_index('NASDAQ 100')  # Corrected index name\n",
        "\n",
        "\n",
        "# Print the ticker symbols\n",
        "for stock in nasdaq_tickers:\n",
        "    print(stock['symbol'])"
      ],
      "metadata": {
        "colab": {
          "base_uri": "https://localhost:8080/"
        },
        "id": "kwfqwg23W--Z",
        "outputId": "fe4e0d23-d11c-421f-d559-3f69e28d8404"
      },
      "execution_count": null,
      "outputs": [
        {
          "output_type": "stream",
          "name": "stdout",
          "text": [
            "AZN\n",
            "AAPL\n",
            "CSCO\n",
            "INTC\n",
            "MSFT\n",
            "WBA\n",
            "ATVI\n",
            "ADBE\n",
            "GOOGL\n",
            "AMZN\n",
            "AMGN\n",
            "ADI\n",
            "AMAT\n",
            "ADSK\n",
            "ADP\n",
            "BIDU\n",
            "BIIB\n",
            "CHTR\n",
            "CTSH\n",
            "CMCSA\n",
            "COST\n",
            "CSX\n",
            "DLTR\n",
            "EBAY\n",
            "EA\n",
            "FAST\n",
            "FISV\n",
            "GILD\n",
            "ILMN\n",
            "INTU\n",
            "ISRG\n",
            "JD\n",
            "KHC\n",
            "LRCX\n",
            "MAR\n",
            "MCHP\n",
            "MU\n",
            "MDLZ\n",
            "MNST\n",
            "NTES\n",
            "NFLX\n",
            "NVDA\n",
            "NXPI\n",
            "ORLY\n",
            "PCAR\n",
            "PAYX\n",
            "PYPL\n",
            "QCOM\n",
            "REGN\n",
            "ROST\n",
            "SIRI\n",
            "SWKS\n",
            "SBUX\n",
            "TMUS\n",
            "TSLA\n",
            "TXN\n",
            "VRSK\n",
            "VRTX\n",
            "BKNG\n",
            "EXC\n",
            "HON\n",
            "AMD\n",
            "ALGN\n",
            "AEP\n",
            "ANSS\n",
            "AVGO\n",
            "CDNS\n",
            "CTAS\n",
            "STZ\n",
            "CPRT\n",
            "FTNT\n",
            "IDXX\n",
            "KLAC\n",
            "SNPS\n",
            "VRSN\n",
            "ASML\n",
            "DXCM\n",
            "ODFL\n",
            "PEP\n",
            "XEL\n",
            "TEAM\n",
            "DOCU\n",
            "KDP\n",
            "LULU\n",
            "MRVL\n",
            "MTCH\n",
            "MELI\n",
            "MRNA\n",
            "OKTA\n",
            "PDD\n",
            "SGEN\n",
            "SPLK\n",
            "WDAY\n",
            "ZM\n",
            "CRWD\n",
            "ABNB\n",
            "DDOG\n",
            "PANW\n",
            "ZS\n",
            "META\n",
            "LCID\n"
          ]
        }
      ]
    }
  ]
}