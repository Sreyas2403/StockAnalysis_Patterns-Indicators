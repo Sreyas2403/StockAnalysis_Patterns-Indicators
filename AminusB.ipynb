{
  "nbformat": 4,
  "nbformat_minor": 0,
  "metadata": {
    "colab": {
      "provenance": [],
      "authorship_tag": "ABX9TyNRbqSwDCJgEva4pG3RMe1o",
      "include_colab_link": true
    },
    "kernelspec": {
      "name": "python3",
      "display_name": "Python 3"
    },
    "language_info": {
      "name": "python"
    }
  },
  "cells": [
    {
      "cell_type": "markdown",
      "metadata": {
        "id": "view-in-github",
        "colab_type": "text"
      },
      "source": [
        "<a href=\"https://colab.research.google.com/github/Sreyas2403/StockAnalysis_Patterns-Indicators/blob/main/AminusB.ipynb\" target=\"_parent\"><img src=\"https://colab.research.google.com/assets/colab-badge.svg\" alt=\"Open In Colab\"/></a>"
      ]
    },
    {
      "cell_type": "code",
      "execution_count": null,
      "metadata": {
        "colab": {
          "base_uri": "https://localhost:8080/"
        },
        "id": "iINLJACrim-S",
        "outputId": "0cff019b-9be8-4ee1-d2c7-028df62bd201"
      },
      "outputs": [
        {
          "output_type": "stream",
          "name": "stdout",
          "text": [
            "Empty DataFrame\n",
            "Columns: [Company Name, Industry, Symbol, Series, ISIN Code]\n",
            "Index: []\n",
            "New Excel file with the set difference operation (A - B) has been saved to A_minus_B.xlsx.\n"
          ]
        }
      ],
      "source": [
        "import pandas as pd\n",
        "\n",
        "# Load the Excel files into DataFrames\n",
        "file_A = '/content/ind_nifty100list.csv'  # Replace with your file path\n",
        "file_B = '/content/ind_nifty100list.csv'  # Replace with your file path\n",
        "\n",
        "df_A = pd.read_csv(file_A)\n",
        "df_B = pd.read_csv(file_B)\n",
        "\n",
        "# Ensure that both DataFrames have the \"StockSymbol\" column\n",
        "if 'Symbol' not in df_A.columns or 'Symbol' not in df_B.columns:\n",
        "    raise ValueError(\"Both Excel files must contain a 'StockSymbol' column.\")\n",
        "\n",
        "# Perform the set difference operation: A - B\n",
        "df_result = df_A[~df_A['Symbol'].isin(df_B['Symbol'])]\n",
        "print(df_result)\n",
        "# Save the result to a new Excel file\n",
        "output_file = 'A_minus_B.xlsx'\n",
        "df_result.to_excel(output_file, index=False)\n",
        "\n",
        "print(f\"New Excel file with the set difference operation (A - B) has been saved to {output_file}.\")\n"
      ]
    }
  ]
}