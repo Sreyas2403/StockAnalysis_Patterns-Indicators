{
  "nbformat": 4,
  "nbformat_minor": 0,
  "metadata": {
    "colab": {
      "provenance": [],
      "authorship_tag": "ABX9TyPCyQDLbkMgPQJpaVkHuYqi",
      "include_colab_link": true
    },
    "kernelspec": {
      "name": "python3",
      "display_name": "Python 3"
    },
    "language_info": {
      "name": "python"
    }
  },
  "cells": [
    {
      "cell_type": "markdown",
      "metadata": {
        "id": "view-in-github",
        "colab_type": "text"
      },
      "source": [
        "<a href=\"https://colab.research.google.com/github/Sreyas2403/StockAnalysis_Patterns-Indicators/blob/main/Peak%26Valley_AdjDiff_Rise.ipynb\" target=\"_parent\"><img src=\"https://colab.research.google.com/assets/colab-badge.svg\" alt=\"Open In Colab\"/></a>"
      ]
    },
    {
      "cell_type": "code",
      "execution_count": null,
      "metadata": {
        "colab": {
          "base_uri": "https://localhost:8080/"
        },
        "id": "Vnqk4xaKVwsF",
        "outputId": "e0889ff0-4692-460d-d881-5329ae9b4cc8"
      },
      "outputs": [
        {
          "output_type": "stream",
          "name": "stdout",
          "text": [
            "Collecting nsepython\n",
            "  Downloading nsepython-2.8-py3-none-any.whl (25 kB)\n",
            "Requirement already satisfied: yfinance in /usr/local/lib/python3.10/dist-packages (0.2.40)\n",
            "Requirement already satisfied: requests in /usr/local/lib/python3.10/dist-packages (from nsepython) (2.31.0)\n",
            "Requirement already satisfied: pandas in /usr/local/lib/python3.10/dist-packages (from nsepython) (2.0.3)\n",
            "Requirement already satisfied: scipy in /usr/local/lib/python3.10/dist-packages (from nsepython) (1.11.4)\n",
            "Requirement already satisfied: numpy>=1.16.5 in /usr/local/lib/python3.10/dist-packages (from yfinance) (1.25.2)\n",
            "Requirement already satisfied: multitasking>=0.0.7 in /usr/local/lib/python3.10/dist-packages (from yfinance) (0.0.11)\n",
            "Requirement already satisfied: lxml>=4.9.1 in /usr/local/lib/python3.10/dist-packages (from yfinance) (4.9.4)\n",
            "Requirement already satisfied: platformdirs>=2.0.0 in /usr/local/lib/python3.10/dist-packages (from yfinance) (4.2.2)\n",
            "Requirement already satisfied: pytz>=2022.5 in /usr/local/lib/python3.10/dist-packages (from yfinance) (2023.4)\n",
            "Requirement already satisfied: frozendict>=2.3.4 in /usr/local/lib/python3.10/dist-packages (from yfinance) (2.4.4)\n",
            "Requirement already satisfied: peewee>=3.16.2 in /usr/local/lib/python3.10/dist-packages (from yfinance) (3.17.5)\n",
            "Requirement already satisfied: beautifulsoup4>=4.11.1 in /usr/local/lib/python3.10/dist-packages (from yfinance) (4.12.3)\n",
            "Requirement already satisfied: html5lib>=1.1 in /usr/local/lib/python3.10/dist-packages (from yfinance) (1.1)\n",
            "Requirement already satisfied: soupsieve>1.2 in /usr/local/lib/python3.10/dist-packages (from beautifulsoup4>=4.11.1->yfinance) (2.5)\n",
            "Requirement already satisfied: six>=1.9 in /usr/local/lib/python3.10/dist-packages (from html5lib>=1.1->yfinance) (1.16.0)\n",
            "Requirement already satisfied: webencodings in /usr/local/lib/python3.10/dist-packages (from html5lib>=1.1->yfinance) (0.5.1)\n",
            "Requirement already satisfied: python-dateutil>=2.8.2 in /usr/local/lib/python3.10/dist-packages (from pandas->nsepython) (2.8.2)\n",
            "Requirement already satisfied: tzdata>=2022.1 in /usr/local/lib/python3.10/dist-packages (from pandas->nsepython) (2024.1)\n",
            "Requirement already satisfied: charset-normalizer<4,>=2 in /usr/local/lib/python3.10/dist-packages (from requests->nsepython) (3.3.2)\n",
            "Requirement already satisfied: idna<4,>=2.5 in /usr/local/lib/python3.10/dist-packages (from requests->nsepython) (3.7)\n",
            "Requirement already satisfied: urllib3<3,>=1.21.1 in /usr/local/lib/python3.10/dist-packages (from requests->nsepython) (2.0.7)\n",
            "Requirement already satisfied: certifi>=2017.4.17 in /usr/local/lib/python3.10/dist-packages (from requests->nsepython) (2024.6.2)\n",
            "Installing collected packages: nsepython\n",
            "Successfully installed nsepython-2.8\n"
          ]
        }
      ],
      "source": [
        "!pip install nsepython yfinance"
      ]
    },
    {
      "cell_type": "code",
      "source": [
        "import pandas as pd\n",
        "import yfinance as yf\n",
        "import datetime\n",
        "from scipy.signal import argrelextrema\n",
        "import numpy as np\n",
        "\n",
        "# Define the stock symbol\n",
        "symbol = input(\"Enter stock symbol: \") + \".NS\"\n",
        "\n",
        "# Calculate the start and end dates for historical data (1 year for this example)\n",
        "end_date = datetime.datetime.now()\n",
        "start_date = end_date - datetime.timedelta(days=365)\n",
        "\n",
        "# Fetch historical data using yfinance\n",
        "df = yf.download(tickers=symbol, start=start_date, end=end_date, interval='1d')\n",
        "\n",
        "# Ensure the index is a DatetimeIndex\n",
        "df.index = pd.to_datetime(df.index)\n",
        "\n",
        "# Identify peaks and valleys\n",
        "df['Peaks'] = df.iloc[argrelextrema(df['Close'].values, np.greater_equal, order=5)[0]]['Close']\n",
        "df['Valleys'] = df.iloc[argrelextrema(df['Close'].values, np.less_equal, order=5)[0]]['Close']\n",
        "\n",
        "# Get the current closing price\n",
        "current_closing_price = df['Close'][-1]\n",
        "\n",
        "# Find the nearest peak and valley to the current date\n",
        "nearest_peak = df['Peaks'].dropna().iloc[-1]\n",
        "nearest_valley = df['Valleys'].dropna().iloc[-1]\n",
        "\n",
        "# Calculate the differences and percentages\n",
        "peak_diff = current_closing_price - nearest_peak\n",
        "valley_diff = current_closing_price - nearest_valley\n",
        "\n",
        "peak_rise_percentage = (peak_diff / nearest_peak) * 100\n",
        "valley_drop_percentage = (valley_diff / nearest_valley) * 100\n",
        "\n",
        "# Print the results\n",
        "print(f\"Current closing price: {current_closing_price}\")\n",
        "print(f\"Nearest peak closing price: {nearest_peak}\")\n",
        "print(f\"Nearest valley closing price: {nearest_valley}\")\n",
        "print(f\"Difference from nearest peak: {peak_diff}\")\n",
        "print(f\"Percentage rise from nearest peak: {peak_rise_percentage}%\")\n",
        "print(f\"Difference from nearest valley: {valley_diff}\")\n",
        "print(f\"Drop percentage from nearest valley: {valley_drop_percentage}%\")\n"
      ],
      "metadata": {
        "colab": {
          "base_uri": "https://localhost:8080/"
        },
        "id": "3ZD74uxDXPcs",
        "outputId": "52fdbd47-103c-4524-a10c-6a8a356c7e55"
      },
      "execution_count": null,
      "outputs": [
        {
          "name": "stdout",
          "output_type": "stream",
          "text": [
            "Enter stock symbol: SBIN\n"
          ]
        },
        {
          "output_type": "stream",
          "name": "stderr",
          "text": [
            "\r[*********************100%%**********************]  1 of 1 completed"
          ]
        },
        {
          "output_type": "stream",
          "name": "stdout",
          "text": [
            "Current closing price: 852.5999755859375\n",
            "Nearest peak closing price: 852.5999755859375\n",
            "Nearest valley closing price: 775.2000122070312\n",
            "Difference from nearest peak: 0.0\n",
            "Percentage rise from nearest peak: 0.0%\n",
            "Difference from nearest valley: 77.39996337890625\n",
            "Drop percentage from nearest valley: 9.984515242530103%\n"
          ]
        },
        {
          "output_type": "stream",
          "name": "stderr",
          "text": [
            "\n"
          ]
        }
      ]
    },
    {
      "cell_type": "code",
      "source": [
        "import pandas as pd\n",
        "import yfinance as yf\n",
        "import datetime\n",
        "from scipy.signal import argrelextrema\n",
        "import numpy as np\n",
        "\n",
        "# Function to fetch and resample data\n",
        "def fetch_and_resample(symbol, start_date, end_date):\n",
        "    df = yf.download(tickers=symbol, start=start_date, end=end_date, interval='1d')\n",
        "    df.index = pd.to_datetime(df.index)\n",
        "    return df\n",
        "\n",
        "# Function to calculate peaks and valleys\n",
        "def calculate_peaks_valleys(df):\n",
        "    df['Peaks'] = df.iloc[argrelextrema(df['Close'].values, np.greater_equal, order=10)[0]]['Close']\n",
        "    df['Valleys'] = df.iloc[argrelextrema(df['Close'].values, np.less_equal, order=10)[0]]['Close']\n",
        "    return df\n",
        "\n",
        "# Function to calculate differences and percentages\n",
        "def calculate_differences_peaks_valleys(df):\n",
        "    peaks = df['Peaks'].dropna()\n",
        "    valleys = df['Valleys'].dropna()\n",
        "\n",
        "    # Ensure there are enough peaks and valleys to compare\n",
        "    if len(peaks) < 2 or len(valleys) < 2:\n",
        "        print(\"Not enough peaks or valleys for comparison.\")\n",
        "        return None\n",
        "\n",
        "    # Find adjacent valleys for each peak\n",
        "    results = []\n",
        "    for i in range(len(peaks) - 1):\n",
        "        peak1 = peaks.iloc[i]\n",
        "        peak2 = peaks.iloc[i + 1]\n",
        "\n",
        "        # Find valleys between peak1 and peak2\n",
        "        valley = valleys[(valleys.index > peaks.index[i]) & (valleys.index < peaks.index[i + 1])]\n",
        "\n",
        "        if not valley.empty:\n",
        "            valley = valley.iloc[0]\n",
        "            difference = peak1 - valley\n",
        "            percentage_difference = (difference / valley) * 100\n",
        "            results.append([peak1, valley, difference, percentage_difference])\n",
        "\n",
        "    return results\n",
        "\n",
        "# Define the stock symbol\n",
        "symbol = input(\"Enter stock symbol: \") + \".NS\"\n",
        "\n",
        "# Calculate the start and end dates for historical data (1 year for this example)\n",
        "end_date = datetime.datetime.now()\n",
        "start_date = input(\"Enter start date (YYYY-MM-DD): \")\n",
        "end_date = input(\"Enter end date (YYYY-MM-DD): \")\n",
        "\n",
        "# Fetch historical data\n",
        "df = fetch_and_resample(symbol, start_date, end_date)\n",
        "\n",
        "# Calculate peaks and valleys\n",
        "df = calculate_peaks_valleys(df)\n",
        "\n",
        "# Calculate differences and percentages\n",
        "results = calculate_differences_peaks_valleys(df)\n",
        "print(results)\n",
        "\n",
        "# Save results to an Excel file if not None\n",
        "results_df = pd.DataFrame(results, columns=['Peak Closing Price', 'Adjacent Valley Closing Price', 'Difference', 'Percentage Difference'])\n",
        "output_file = f'{symbol}_peaks_valleys_differences.xlsx'\n",
        "results_df.to_excel(output_file, index=False)\n",
        "print(f\"Results have been saved to {output_file}\")\n"
      ],
      "metadata": {
        "colab": {
          "base_uri": "https://localhost:8080/"
        },
        "id": "0FGBSFETiAxz",
        "outputId": "25103b61-4611-4059-a77a-bbe6c12d70a2"
      },
      "execution_count": null,
      "outputs": [
        {
          "name": "stdout",
          "output_type": "stream",
          "text": [
            "Enter stock symbol: SBIN\n",
            "Enter start date (YYYY-MM-DD): 2021-01-01\n",
            "Enter end date (YYYY-MM-DD): 2023-12-31\n"
          ]
        },
        {
          "output_type": "stream",
          "name": "stderr",
          "text": [
            "\r[*********************100%%**********************]  1 of 1 completed"
          ]
        },
        {
          "output_type": "stream",
          "name": "stdout",
          "text": [
            "[[307.25, 275.6499938964844, 31.600006103515625, 11.463815274156133], [415.20001220703125, 328.8500061035156, 86.35000610351562, 26.258173787697697], [439.6499938964844, 412.8999938964844, 26.75, 6.478566334565344], [432.8500061035156, 420.8999938964844, 11.95001220703125, 2.839157134787277], [456.95001220703125, 406.70001220703125, 50.25, 12.355544256639993], [530.4500122070312, 460.54998779296875, 69.9000244140625, 15.17751086022929], [494.70001220703125, 446.0, 48.70001220703125, 10.919285248213285], [540.5499877929688, 440.29998779296875, 100.25, 22.768567517457676], [517.7000122070312, 444.6499938964844, 73.05001831054688, 16.428656092043735], [474.6000061035156, 434.70001220703125, 39.899993896484375, 9.17874229952437], [542.0999755859375, 511.29998779296875, 30.79998779296875, 6.023858503481916], [574.0499877929688, 519.75, 54.29998779296875, 10.447328098695287], [625.5, 574.0, 51.5, 8.97212543554007], [613.7000122070312, 527.3499755859375, 86.35003662109375, 16.374332154875024], [564.7999877929688, 505.3500061035156, 59.449981689453125, 11.76412010911808], [595.0, 554.5999755859375, 40.4000244140625, 7.284534113327301], [620.2000122070312, 560.7999877929688, 59.4000244140625, 10.592015996261269], [603.9500122070312, 547.0, 56.95001220703125, 10.411336783735146], [584.7000122070312, 558.9500122070312, 25.75, 4.6068520328544835]]\n",
            "Results have been saved to SBIN.NS_peaks_valleys_differences.xlsx\n"
          ]
        },
        {
          "output_type": "stream",
          "name": "stderr",
          "text": [
            "\n"
          ]
        }
      ]
    },
    {
      "cell_type": "code",
      "source": [
        "!pip install bsedata"
      ],
      "metadata": {
        "colab": {
          "base_uri": "https://localhost:8080/"
        },
        "id": "T_g7EK7vimvc",
        "outputId": "3fef9f51-3a80-45c7-fe92-c6f72d8f3c50"
      },
      "execution_count": null,
      "outputs": [
        {
          "output_type": "stream",
          "name": "stdout",
          "text": [
            "Collecting bsedata\n",
            "  Downloading bsedata-0.6.0-py3-none-any.whl (15 kB)\n",
            "Requirement already satisfied: beautifulsoup4 in /usr/local/lib/python3.10/dist-packages (from bsedata) (4.12.3)\n",
            "Requirement already satisfied: requests in /usr/local/lib/python3.10/dist-packages (from bsedata) (2.31.0)\n",
            "Requirement already satisfied: lxml in /usr/local/lib/python3.10/dist-packages (from bsedata) (4.9.4)\n",
            "Requirement already satisfied: soupsieve>1.2 in /usr/local/lib/python3.10/dist-packages (from beautifulsoup4->bsedata) (2.5)\n",
            "Requirement already satisfied: charset-normalizer<4,>=2 in /usr/local/lib/python3.10/dist-packages (from requests->bsedata) (3.3.2)\n",
            "Requirement already satisfied: idna<4,>=2.5 in /usr/local/lib/python3.10/dist-packages (from requests->bsedata) (3.7)\n",
            "Requirement already satisfied: urllib3<3,>=1.21.1 in /usr/local/lib/python3.10/dist-packages (from requests->bsedata) (2.0.7)\n",
            "Requirement already satisfied: certifi>=2017.4.17 in /usr/local/lib/python3.10/dist-packages (from requests->bsedata) (2024.6.2)\n",
            "Installing collected packages: bsedata\n",
            "Successfully installed bsedata-0.6.0\n"
          ]
        }
      ]
    }
  ]
}