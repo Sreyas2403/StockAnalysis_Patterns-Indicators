{
  "nbformat": 4,
  "nbformat_minor": 0,
  "metadata": {
    "colab": {
      "provenance": [],
      "authorship_tag": "ABX9TyOwfS4DCW25vWX4DB+YoBs1",
      "include_colab_link": true
    },
    "kernelspec": {
      "name": "python3",
      "display_name": "Python 3"
    },
    "language_info": {
      "name": "python"
    }
  },
  "cells": [
    {
      "cell_type": "markdown",
      "metadata": {
        "id": "view-in-github",
        "colab_type": "text"
      },
      "source": [
        "<a href=\"https://colab.research.google.com/github/Sreyas2403/StockAnalysis_Patterns-Indicators/blob/main/YesHigh%26TodOpen.ipynb\" target=\"_parent\"><img src=\"https://colab.research.google.com/assets/colab-badge.svg\" alt=\"Open In Colab\"/></a>"
      ]
    },
    {
      "cell_type": "code",
      "execution_count": null,
      "metadata": {
        "colab": {
          "base_uri": "https://localhost:8080/"
        },
        "id": "wsuFxvvSxgTK",
        "outputId": "ee9ab651-99a4-49c6-ae42-4ec51ca4ce54"
      },
      "outputs": [
        {
          "output_type": "stream",
          "name": "stdout",
          "text": [
            "Requirement already satisfied: yfinance in /usr/local/lib/python3.10/dist-packages (0.2.40)\n",
            "Requirement already satisfied: pandas>=1.3.0 in /usr/local/lib/python3.10/dist-packages (from yfinance) (2.0.3)\n",
            "Requirement already satisfied: numpy>=1.16.5 in /usr/local/lib/python3.10/dist-packages (from yfinance) (1.25.2)\n",
            "Requirement already satisfied: requests>=2.31 in /usr/local/lib/python3.10/dist-packages (from yfinance) (2.31.0)\n",
            "Requirement already satisfied: multitasking>=0.0.7 in /usr/local/lib/python3.10/dist-packages (from yfinance) (0.0.11)\n",
            "Requirement already satisfied: lxml>=4.9.1 in /usr/local/lib/python3.10/dist-packages (from yfinance) (4.9.4)\n",
            "Requirement already satisfied: platformdirs>=2.0.0 in /usr/local/lib/python3.10/dist-packages (from yfinance) (4.2.2)\n",
            "Requirement already satisfied: pytz>=2022.5 in /usr/local/lib/python3.10/dist-packages (from yfinance) (2023.4)\n",
            "Requirement already satisfied: frozendict>=2.3.4 in /usr/local/lib/python3.10/dist-packages (from yfinance) (2.4.4)\n",
            "Requirement already satisfied: peewee>=3.16.2 in /usr/local/lib/python3.10/dist-packages (from yfinance) (3.17.5)\n",
            "Requirement already satisfied: beautifulsoup4>=4.11.1 in /usr/local/lib/python3.10/dist-packages (from yfinance) (4.12.3)\n",
            "Requirement already satisfied: html5lib>=1.1 in /usr/local/lib/python3.10/dist-packages (from yfinance) (1.1)\n",
            "Requirement already satisfied: soupsieve>1.2 in /usr/local/lib/python3.10/dist-packages (from beautifulsoup4>=4.11.1->yfinance) (2.5)\n",
            "Requirement already satisfied: six>=1.9 in /usr/local/lib/python3.10/dist-packages (from html5lib>=1.1->yfinance) (1.16.0)\n",
            "Requirement already satisfied: webencodings in /usr/local/lib/python3.10/dist-packages (from html5lib>=1.1->yfinance) (0.5.1)\n",
            "Requirement already satisfied: python-dateutil>=2.8.2 in /usr/local/lib/python3.10/dist-packages (from pandas>=1.3.0->yfinance) (2.8.2)\n",
            "Requirement already satisfied: tzdata>=2022.1 in /usr/local/lib/python3.10/dist-packages (from pandas>=1.3.0->yfinance) (2024.1)\n",
            "Requirement already satisfied: charset-normalizer<4,>=2 in /usr/local/lib/python3.10/dist-packages (from requests>=2.31->yfinance) (3.3.2)\n",
            "Requirement already satisfied: idna<4,>=2.5 in /usr/local/lib/python3.10/dist-packages (from requests>=2.31->yfinance) (3.7)\n",
            "Requirement already satisfied: urllib3<3,>=1.21.1 in /usr/local/lib/python3.10/dist-packages (from requests>=2.31->yfinance) (2.0.7)\n",
            "Requirement already satisfied: certifi>=2017.4.17 in /usr/local/lib/python3.10/dist-packages (from requests>=2.31->yfinance) (2024.6.2)\n"
          ]
        }
      ],
      "source": [
        "!pip install yfinance"
      ]
    },
    {
      "cell_type": "code",
      "source": [
        "import yfinance as yf\n",
        "import datetime\n",
        "\n",
        "# Define the stock symbol\n",
        "symbol = \"SBIN.NS\"\n",
        "\n",
        "# Calculate the date range for yesterday\n",
        "today = datetime.datetime.now()\n",
        "yesterday = today - datetime.timedelta(days=1)\n",
        "\n",
        "# Format the dates to be used in yfinance\n",
        "today_str = today.strftime('%Y-%m-%d')\n",
        "yesterday_str = yesterday.strftime('%Y-%m-%d')\n",
        "\n",
        "# Download stock data for yesterday\n",
        "yesterday_data = yf.download(tickers=symbol, start=yesterday_str, end=today_str, interval='1d')\n",
        "\n",
        "# Download stock data for today with 1 minute interval\n",
        "today_data = yf.download(tickers=symbol, start=today_str, interval='1m')\n",
        "\n",
        "# Ensure the data is not empty\n",
        "if not yesterday_data.empty:\n",
        "    # 1. Highest price of SBIN for yesterday's date\n",
        "    highest_price_yesterday = yesterday_data['High'].max()\n",
        "    print(f\"Highest price of SBIN for yesterday ({yesterday_str}): {highest_price_yesterday}\")\n",
        "\n",
        "# Ensure the data is not empty\n",
        "if not today_data.empty:\n",
        "    # 2. Opening price for the first entry in today's data\n",
        "    opening_price_today = today_data.iloc[0]['Open']\n",
        "    print(f\"Opening price of SBIN for the first entry today ({today_str}): {opening_price_today}\")\n",
        "\n",
        "    # 3. Difference between highest price of yesterday and opening price of today\n",
        "    if not yesterday_data.empty:\n",
        "        price_difference = highest_price_yesterday - opening_price_today\n",
        "        print(f\"Difference between highest price of yesterday and opening price of today: {price_difference}\")\n",
        "\n",
        "else:\n",
        "    print(\"No data available for today's date.\")\n"
      ],
      "metadata": {
        "colab": {
          "base_uri": "https://localhost:8080/"
        },
        "id": "CA1YxMesxtbK",
        "outputId": "8a7a9a2e-a078-435d-a32b-8cc7e6082533"
      },
      "execution_count": null,
      "outputs": [
        {
          "output_type": "stream",
          "name": "stderr",
          "text": [
            "[*********************100%%**********************]  1 of 1 completed\n",
            "[*********************100%%**********************]  1 of 1 completed"
          ]
        },
        {
          "output_type": "stream",
          "name": "stdout",
          "text": [
            "Highest price of SBIN for yesterday (2024-06-24): 836.0\n",
            "Opening price of SBIN for the first entry today (2024-06-25): 835.1500244140625\n",
            "Difference between highest price of yesterday and opening price of today: 0.8499755859375\n"
          ]
        },
        {
          "output_type": "stream",
          "name": "stderr",
          "text": [
            "\n"
          ]
        }
      ]
    }
  ]
}